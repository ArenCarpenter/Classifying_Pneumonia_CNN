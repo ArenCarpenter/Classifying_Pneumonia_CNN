{
 "cells": [
  {
   "cell_type": "markdown",
   "metadata": {},
   "source": [
    "# Convolutional Neural Network\n",
    "Here, we will use CNN to run image classification on pnemonia data."
   ]
  },
  {
   "cell_type": "markdown",
   "metadata": {},
   "source": [
    "## Import\n",
    "---\n",
    "Importing necessary packages and data"
   ]
  },
  {
   "cell_type": "code",
   "execution_count": 2,
   "metadata": {},
   "outputs": [],
   "source": [
    "import numpy as np\n",
    "\n",
    "import matplotlib.pyplot as plt\n",
    "%matplotlib inline\n",
    "plt.style.use('fivethirtyeight')\n",
    "\n",
    "from PIL import Image\n",
    "from tensorflow.keras.preprocessing import image\n",
    "from tensorflow.keras import models, layers, optimizers\n",
    "from tensorflow.keras.layers import BatchNormalization\n",
    "\n",
    "import pickle\n",
    "\n",
    "import os\n",
    "import gc\n",
    "from timeit import default_timer as timer"
   ]
  },
  {
   "cell_type": "markdown",
   "metadata": {},
   "source": [
    "### Image Directories"
   ]
  },
  {
   "cell_type": "code",
   "execution_count": 3,
   "metadata": {},
   "outputs": [],
   "source": [
    "train_dir = '/Users/arencarpenter/Desktop/Datasets/chest_xray/train'\n",
    "test_dir = '/Users/arencarpenter/Desktop/Datasets/chest_xray/test'\n",
    "val_dir = '/Users/arencarpenter/Desktop/Datasets/chest_xray/validation'"
   ]
  },
  {
   "cell_type": "code",
   "execution_count": 4,
   "metadata": {},
   "outputs": [],
   "source": [
    "# remove unnecessary variables clogging memory\n",
    "def clean_up(vars_):\n",
    "    for var in vars_:\n",
    "        del var \n",
    "    print(gc.collect())"
   ]
  },
  {
   "cell_type": "markdown",
   "metadata": {},
   "source": [
    "## Preprocess\n",
    "---"
   ]
  },
  {
   "cell_type": "code",
   "execution_count": 5,
   "metadata": {},
   "outputs": [
    {
     "name": "stdout",
     "output_type": "stream",
     "text": [
      "Found 4043 images belonging to 2 classes.\n",
      "Found 1010 images belonging to 2 classes.\n",
      "Found 586 images belonging to 2 classes.\n"
     ]
    }
   ],
   "source": [
    "train_g = image.ImageDataGenerator(rescale = 1/255).flow_from_directory(train_dir,\n",
    "                                                                  target_size = (150,150), \n",
    "                                                                  color_mode='grayscale',\n",
    "                                                                  class_mode='binary')\n",
    "val_g = image.ImageDataGenerator(rescale = 1/255).flow_from_directory(val_dir,\n",
    "                                                                target_size = (150,150), \n",
    "                                                                color_mode='grayscale',\n",
    "                                                                class_mode='binary')\n",
    "test_g = image.ImageDataGenerator(rescale = 1/255).flow_from_directory(test_dir,\n",
    "                                                                target_size = (150,150), \n",
    "                                                                color_mode='grayscale',\n",
    "                                                                class_mode='binary')"
   ]
  },
  {
   "cell_type": "markdown",
   "metadata": {},
   "source": [
    "## Baseline Model\n",
    "---"
   ]
  },
  {
   "cell_type": "code",
   "execution_count": 19,
   "metadata": {},
   "outputs": [],
   "source": [
    "# model fit\n",
    "model = models.Sequential()\n",
    "model.add(layers.Conv2D(32, 3, activation = 'relu', input_shape=(150, 150, 1)))\n",
    "model.add(layers.MaxPooling2D((2, 2)))\n",
    "model.add(layers.Conv2D(64, 3, activation = 'relu'))\n",
    "model.add(layers.MaxPooling2D((2, 2)))\n",
    "model.add(layers.Conv2D(128, 3, activation = 'relu'))\n",
    "model.add(layers.MaxPooling2D((2, 2)))\n",
    "model.add(layers.Conv2D(128, 3, activation = 'relu'))\n",
    "model.add(layers.MaxPooling2D((2, 2)))\n",
    "model.add(layers.Flatten())\n",
    "model.add(layers.Dense(512, activation = 'relu'))\n",
    "model.add(layers.Dense(1, activation='sigmoid'))"
   ]
  },
  {
   "cell_type": "markdown",
   "metadata": {},
   "source": [
    "### Evaluation Metrics\n",
    "Since we don't want to miss any true pneumonia case, we will prioritize the recall score."
   ]
  },
  {
   "cell_type": "code",
   "execution_count": 20,
   "metadata": {},
   "outputs": [],
   "source": [
    "# compiling models\n",
    "model.compile(loss='binary_crossentropy',\n",
    "              optimizer=optimizers.RMSprop(lr=1e-4),\n",
    "              metrics=['accuracy', 'Recall'])"
   ]
  },
  {
   "cell_type": "code",
   "execution_count": 21,
   "metadata": {
    "scrolled": true
   },
   "outputs": [
    {
     "name": "stdout",
     "output_type": "stream",
     "text": [
      "Epoch 1/20\n",
      "127/127 [==============================] - 66s 519ms/step - loss: 0.4392 - accuracy: 0.7979 - recall: 0.9527 - val_loss: 0.2986 - val_accuracy: 0.8475 - val_recall: 0.9787\n",
      "Epoch 2/20\n",
      "127/127 [==============================] - 68s 536ms/step - loss: 0.2247 - accuracy: 0.9050 - recall: 0.9400 - val_loss: 0.1565 - val_accuracy: 0.9406 - val_recall: 0.9640\n",
      "Epoch 3/20\n",
      "127/127 [==============================] - 75s 588ms/step - loss: 0.1482 - accuracy: 0.9446 - recall: 0.9647 - val_loss: 0.1179 - val_accuracy: 0.9525 - val_recall: 0.9747\n",
      "Epoch 4/20\n",
      "127/127 [==============================] - 71s 562ms/step - loss: 0.1152 - accuracy: 0.9550 - recall: 0.9713 - val_loss: 0.2295 - val_accuracy: 0.9139 - val_recall: 0.8840\n",
      "Epoch 5/20\n",
      "127/127 [==============================] - 74s 580ms/step - loss: 0.1022 - accuracy: 0.9599 - recall: 0.9733 - val_loss: 0.0865 - val_accuracy: 0.9634 - val_recall: 0.9827\n",
      "Epoch 6/20\n",
      "127/127 [==============================] - 74s 582ms/step - loss: 0.0902 - accuracy: 0.9646 - recall: 0.9763 - val_loss: 0.0773 - val_accuracy: 0.9673 - val_recall: 0.9787\n",
      "Epoch 7/20\n",
      "127/127 [==============================] - 71s 559ms/step - loss: 0.0766 - accuracy: 0.9706 - recall: 0.9793 - val_loss: 0.0667 - val_accuracy: 0.9723 - val_recall: 0.9813\n",
      "Epoch 8/20\n",
      "127/127 [==============================] - 70s 554ms/step - loss: 0.0683 - accuracy: 0.9748 - recall: 0.9823 - val_loss: 0.0633 - val_accuracy: 0.9752 - val_recall: 0.9867\n",
      "Epoch 9/20\n",
      "127/127 [==============================] - 71s 560ms/step - loss: 0.0636 - accuracy: 0.9755 - recall: 0.9830 - val_loss: 0.0585 - val_accuracy: 0.9792 - val_recall: 0.9840\n",
      "Epoch 10/20\n",
      "127/127 [==============================] - 75s 590ms/step - loss: 0.0562 - accuracy: 0.9795 - recall: 0.9847 - val_loss: 0.0570 - val_accuracy: 0.9772 - val_recall: 0.9760\n",
      "Epoch 11/20\n",
      "127/127 [==============================] - 74s 586ms/step - loss: 0.0525 - accuracy: 0.9797 - recall: 0.9850 - val_loss: 0.0604 - val_accuracy: 0.9802 - val_recall: 0.9827\n",
      "Epoch 12/20\n",
      "127/127 [==============================] - 74s 585ms/step - loss: 0.0492 - accuracy: 0.9814 - recall: 0.9870 - val_loss: 0.0725 - val_accuracy: 0.9703 - val_recall: 0.9933\n",
      "Epoch 13/20\n",
      "127/127 [==============================] - 72s 564ms/step - loss: 0.0433 - accuracy: 0.9827 - recall: 0.9883 - val_loss: 0.0685 - val_accuracy: 0.9743 - val_recall: 0.9680\n",
      "Epoch 14/20\n",
      "127/127 [==============================] - 75s 592ms/step - loss: 0.0406 - accuracy: 0.9857 - recall: 0.9900 - val_loss: 0.0536 - val_accuracy: 0.9802 - val_recall: 0.9760\n",
      "Epoch 15/20\n",
      "127/127 [==============================] - 72s 568ms/step - loss: 0.0383 - accuracy: 0.9839 - recall: 0.9887 - val_loss: 0.0568 - val_accuracy: 0.9772 - val_recall: 0.9920\n",
      "Epoch 16/20\n",
      "127/127 [==============================] - 72s 570ms/step - loss: 0.0327 - accuracy: 0.9879 - recall: 0.9920 - val_loss: 0.0914 - val_accuracy: 0.9644 - val_recall: 0.9960\n",
      "Epoch 17/20\n",
      "127/127 [==============================] - 73s 578ms/step - loss: 0.0296 - accuracy: 0.9889 - recall: 0.9923 - val_loss: 0.0441 - val_accuracy: 0.9871 - val_recall: 0.9907\n",
      "Epoch 18/20\n",
      "127/127 [==============================] - 73s 573ms/step - loss: 0.0311 - accuracy: 0.9879 - recall: 0.9917 - val_loss: 0.0483 - val_accuracy: 0.9851 - val_recall: 0.9920\n",
      "Epoch 19/20\n",
      "127/127 [==============================] - 73s 573ms/step - loss: 0.0258 - accuracy: 0.9904 - recall: 0.9937 - val_loss: 0.0501 - val_accuracy: 0.9842 - val_recall: 0.9827\n",
      "Epoch 20/20\n",
      "127/127 [==============================] - 73s 577ms/step - loss: 0.0261 - accuracy: 0.9908 - recall: 0.9937 - val_loss: 0.0458 - val_accuracy: 0.9812 - val_recall: 0.9920\n",
      "Total Time Elapsed:  24  minutes  37  seconds\n"
     ]
    }
   ],
   "source": [
    "# training\n",
    "start = timer()\n",
    "\n",
    "history = model.fit(train_g, \n",
    "                    epochs=20, \n",
    "                    validation_data=val_g, \n",
    "                    workers = 7\n",
    "                   )\n",
    "\n",
    "end = timer()\n",
    "elapsed = end - start\n",
    "print('Total Time Elapsed: ', int(elapsed//60), ' minutes ', (round(elapsed%60)), ' seconds')"
   ]
  },
  {
   "cell_type": "code",
   "execution_count": 22,
   "metadata": {},
   "outputs": [
    {
     "name": "stdout",
     "output_type": "stream",
     "text": [
      "19/19 [==============================] - 4s 234ms/step - loss: 0.8588 - accuracy: 0.8174 - recall: 1.0000\n"
     ]
    }
   ],
   "source": [
    "scores = model.evaluate(test_g, verbose=1)"
   ]
  },
  {
   "cell_type": "code",
   "execution_count": 14,
   "metadata": {},
   "outputs": [
    {
     "data": {
      "image/png": "[encoded data removed]",
      "text/plain": [
       "<Figure size 432x288 with 1 Axes>"
      ]
     },
     "metadata": {},
     "output_type": "display_data"
    },
    {
     "data": {
      "image/png": "[encoded data removed]",
      "text/plain": [
       "<Figure size 432x288 with 1 Axes>"
      ]
     },
     "metadata": {},
     "output_type": "display_data"
    },
    {
     "data": {
      "image/png": "[encoded data removed]",
      "text/plain": [
       "<Figure size 432x288 with 1 Axes>"
      ]
     },
     "metadata": {},
     "output_type": "display_data"
    }
   ],
   "source": [
    "# plot performance\n",
    "def plot_performance(hist):\n",
    "    hist_ = hist.history\n",
    "    epochs = hist.epoch\n",
    "\n",
    "    plt.plot(epochs, hist_['accuracy'], label='Training Accuracy')\n",
    "    plt.plot(epochs, hist_['val_accuracy'], label='Validation Accuracy')\n",
    "    plt.title('Training and validation accuracy')\n",
    "    plt.legend()\n",
    "    \n",
    "    plt.figure()\n",
    "    plt.plot(epochs, hist_['loss'], label='Training loss')\n",
    "    plt.plot(epochs, hist_['val_loss'], label='Validation loss')\n",
    "    plt.title('Training and validation loss')\n",
    "    plt.legend()\n",
    "\n",
    "    plt.figure()\n",
    "    plt.plot(epochs, hist_['recall'], label='Training recall')\n",
    "    plt.plot(epochs, hist_['val_recall'], label='Validation recall')\n",
    "    plt.title('Training and validation recall')\n",
    "    plt.legend()\n",
    "    \n",
    "    plt.show()\n",
    "    \n",
    "plot_performance(history)"
   ]
  },
  {
   "cell_type": "code",
   "execution_count": 15,
   "metadata": {},
   "outputs": [],
   "source": [
    "# saving model\n",
    "os.mkdir('MODEL')\n",
    "model.save('MODEL/baseline_model.h5')"
   ]
  },
  {
   "cell_type": "markdown",
   "metadata": {},
   "source": [
    "## Basic Network Model 1\n",
    "---\n"
   ]
  },
  {
   "cell_type": "code",
   "execution_count": 16,
   "metadata": {},
   "outputs": [],
   "source": [
    "# model fit\n",
    "model = models.Sequential()\n",
    "model.add(layers.Conv2D(32, 3, activation = 'relu', input_shape=(150, 150, 1)))\n",
    "model.add(layers.MaxPooling2D((2, 2)))\n",
    "model.add(layers.Conv2D(128, 3, activation = 'relu'))\n",
    "model.add(layers.MaxPooling2D((2, 2)))\n",
    "model.add(layers.Flatten())\n",
    "model.add(layers.Dense(256, activation = 'relu'))\n",
    "model.add(layers.Dense(512, activation = 'relu'))\n",
    "model.add(layers.Dense(1, activation='sigmoid'))"
   ]
  },
  {
   "cell_type": "code",
   "execution_count": 17,
   "metadata": {},
   "outputs": [],
   "source": [
    "# compiling models\n",
    "model.compile(loss='binary_crossentropy',\n",
    "              optimizer=optimizers.RMSprop(lr=1e-4),\n",
    "              metrics=['accuracy', 'Recall'])"
   ]
  },
  {
   "cell_type": "code",
   "execution_count": 18,
   "metadata": {},
   "outputs": [
    {
     "name": "stdout",
     "output_type": "stream",
     "text": [
      "Epoch 1/20\n",
      "127/127 [==============================] - 97s 764ms/step - loss: 0.3799 - accuracy: 0.8338 - recall: 0.9344 - val_loss: 0.1664 - val_accuracy: 0.9218 - val_recall: 0.9667\n",
      "Epoch 2/20\n",
      "127/127 [==============================] - 102s 800ms/step - loss: 0.1523 - accuracy: 0.9401 - recall: 0.9610 - val_loss: 0.1048 - val_accuracy: 0.9545 - val_recall: 0.9747\n",
      "Epoch 3/20\n",
      "127/127 [==============================] - 100s 789ms/step - loss: 0.1026 - accuracy: 0.9631 - recall: 0.9783 - val_loss: 0.1000 - val_accuracy: 0.9653 - val_recall: 0.9627\n",
      "Epoch 4/20\n",
      "127/127 [==============================] - 101s 798ms/step - loss: 0.0780 - accuracy: 0.9686 - recall: 0.9800 - val_loss: 0.0790 - val_accuracy: 0.9693 - val_recall: 0.9693\n",
      "Epoch 5/20\n",
      "127/127 [==============================] - 100s 788ms/step - loss: 0.0656 - accuracy: 0.9730 - recall: 0.9807 - val_loss: 0.0782 - val_accuracy: 0.9743 - val_recall: 0.9800\n",
      "Epoch 6/20\n",
      "127/127 [==============================] - 101s 792ms/step - loss: 0.0565 - accuracy: 0.9800 - recall: 0.9853 - val_loss: 0.1560 - val_accuracy: 0.9535 - val_recall: 0.9387\n",
      "Epoch 7/20\n",
      "127/127 [==============================] - 100s 787ms/step - loss: 0.0506 - accuracy: 0.9814 - recall: 0.9873 - val_loss: 0.0835 - val_accuracy: 0.9663 - val_recall: 0.9627\n",
      "Epoch 8/20\n",
      "127/127 [==============================] - 100s 786ms/step - loss: 0.0379 - accuracy: 0.9849 - recall: 0.9900 - val_loss: 0.0772 - val_accuracy: 0.9762 - val_recall: 0.9907\n",
      "Epoch 9/20\n",
      "127/127 [==============================] - 99s 780ms/step - loss: 0.0350 - accuracy: 0.9859 - recall: 0.9900 - val_loss: 0.0734 - val_accuracy: 0.9782 - val_recall: 0.9840\n",
      "Epoch 10/20\n",
      "127/127 [==============================] - 99s 781ms/step - loss: 0.0265 - accuracy: 0.9899 - recall: 0.9930 - val_loss: 0.0751 - val_accuracy: 0.9792 - val_recall: 0.9827\n",
      "Epoch 11/20\n",
      "127/127 [==============================] - 100s 786ms/step - loss: 0.0191 - accuracy: 0.9926 - recall: 0.9947 - val_loss: 0.0853 - val_accuracy: 0.9762 - val_recall: 0.9747\n",
      "Epoch 12/20\n",
      "127/127 [==============================] - 99s 781ms/step - loss: 0.0174 - accuracy: 0.9943 - recall: 0.9963 - val_loss: 0.0855 - val_accuracy: 0.9723 - val_recall: 0.9867\n",
      "Epoch 13/20\n",
      "127/127 [==============================] - 100s 789ms/step - loss: 0.0140 - accuracy: 0.9951 - recall: 0.9970 - val_loss: 0.0942 - val_accuracy: 0.9743 - val_recall: 0.9880\n",
      "Epoch 14/20\n",
      "127/127 [==============================] - 100s 787ms/step - loss: 0.0095 - accuracy: 0.9973 - recall: 0.9977 - val_loss: 0.1060 - val_accuracy: 0.9713 - val_recall: 0.9947\n",
      "Epoch 15/20\n",
      "127/127 [==============================] - 100s 784ms/step - loss: 0.0089 - accuracy: 0.9978 - recall: 0.9990 - val_loss: 0.1107 - val_accuracy: 0.9752 - val_recall: 0.9747\n",
      "Epoch 16/20\n",
      "127/127 [==============================] - 100s 787ms/step - loss: 0.0075 - accuracy: 0.9985 - recall: 0.9983 - val_loss: 0.1053 - val_accuracy: 0.9762 - val_recall: 0.9880\n",
      "Epoch 17/20\n",
      "127/127 [==============================] - 99s 782ms/step - loss: 0.0047 - accuracy: 0.9990 - recall: 0.9997 - val_loss: 0.1282 - val_accuracy: 0.9743 - val_recall: 0.9720\n",
      "Epoch 18/20\n",
      "127/127 [==============================] - 99s 778ms/step - loss: 0.0079 - accuracy: 0.9975 - recall: 0.9993 - val_loss: 0.1079 - val_accuracy: 0.9792 - val_recall: 0.9827\n",
      "Epoch 19/20\n",
      "127/127 [==============================] - 99s 777ms/step - loss: 0.0027 - accuracy: 0.9990 - recall: 0.9997 - val_loss: 0.1087 - val_accuracy: 0.9772 - val_recall: 0.9853\n",
      "Epoch 20/20\n",
      "127/127 [==============================] - 98s 775ms/step - loss: 0.0020 - accuracy: 0.9988 - recall: 0.9993 - val_loss: 0.1272 - val_accuracy: 0.9782 - val_recall: 0.9840\n",
      "Total Time Elapsed:  33  minutes  46  seconds\n"
     ]
    }
   ],
   "source": [
    "# training\n",
    "start = timer()\n",
    "\n",
    "history = model.fit(train_g, \n",
    "                    epochs=20, \n",
    "                    validation_data=val_g, \n",
    "                    workers = 8\n",
    "                   )\n",
    "\n",
    "end = timer()\n",
    "elapsed = end - start\n",
    "print('Total Time Elapsed: ', int(elapsed//60), ' minutes ', (round(elapsed%60)), ' seconds')"
   ]
  },
  {
   "cell_type": "markdown",
   "metadata": {},
   "source": [
    "## Data Augmentation\n",
    "---\n",
    "Run it if the data is generally overfitting."
   ]
  },
  {
   "cell_type": "code",
   "execution_count": 19,
   "metadata": {},
   "outputs": [],
   "source": [
    "# model fit\n",
    "model = models.Sequential()\n",
    "model.add(layers.Conv2D(32, 3, activation = 'relu', input_shape=(150, 150, 1)))\n",
    "model.add(layers.MaxPooling2D((2, 2)))\n",
    "model.add(layers.Conv2D(64, 3, activation = 'relu'))\n",
    "model.add(layers.MaxPooling2D((2, 2)))\n",
    "model.add(layers.Flatten())\n",
    "model.add(layers.Dense(128, activation = 'relu'))\n",
    "model.add(layers.Dense(256, activation = 'relu'))\n",
    "model.add(layers.Dense(256, activation = 'relu'))\n",
    "model.add(layers.Dense(1, activation='sigmoid'))"
   ]
  },
  {
   "cell_type": "code",
   "execution_count": 20,
   "metadata": {},
   "outputs": [],
   "source": [
    "# compiling models\n",
    "model.compile(loss='binary_crossentropy',\n",
    "              optimizer=optimizers.RMSprop(lr=1e-4),\n",
    "              metrics=['accuracy', 'Recall'])"
   ]
  },
  {
   "cell_type": "code",
   "execution_count": 22,
   "metadata": {},
   "outputs": [
    {
     "name": "stdout",
     "output_type": "stream",
     "text": [
      "Epoch 1/20\n",
      "127/127 [==============================] - 50s 393ms/step - loss: 0.0266 - accuracy: 0.9904 - recall: 0.9930 - val_loss: 0.1051 - val_accuracy: 0.9683 - val_recall: 0.9907\n",
      "Epoch 2/20\n",
      "127/127 [==============================] - 52s 409ms/step - loss: 0.0254 - accuracy: 0.9904 - recall: 0.9927 - val_loss: 0.0785 - val_accuracy: 0.9772 - val_recall: 0.9840\n",
      "Epoch 3/20\n",
      "127/127 [==============================] - 51s 405ms/step - loss: 0.0214 - accuracy: 0.9933 - recall: 0.9957 - val_loss: 0.0893 - val_accuracy: 0.9752 - val_recall: 0.9760\n",
      "Epoch 4/20\n",
      "127/127 [==============================] - 54s 429ms/step - loss: 0.0174 - accuracy: 0.9948 - recall: 0.9963 - val_loss: 0.0877 - val_accuracy: 0.9762 - val_recall: 0.9827\n",
      "Epoch 5/20\n",
      "127/127 [==============================] - 54s 422ms/step - loss: 0.0154 - accuracy: 0.9958 - recall: 0.9977 - val_loss: 0.0981 - val_accuracy: 0.9752 - val_recall: 0.9760\n",
      "Epoch 6/20\n",
      "127/127 [==============================] - 54s 426ms/step - loss: 0.0120 - accuracy: 0.9970 - recall: 0.9987 - val_loss: 0.1274 - val_accuracy: 0.9713 - val_recall: 0.9693\n",
      "Epoch 7/20\n",
      "127/127 [==============================] - 53s 420ms/step - loss: 0.0083 - accuracy: 0.9975 - recall: 0.9987 - val_loss: 0.0969 - val_accuracy: 0.9792 - val_recall: 0.9840\n",
      "Epoch 8/20\n",
      "127/127 [==============================] - 54s 427ms/step - loss: 0.0077 - accuracy: 0.9983 - recall: 0.9990 - val_loss: 0.1023 - val_accuracy: 0.9782 - val_recall: 0.9853\n",
      "Epoch 9/20\n",
      "127/127 [==============================] - 53s 421ms/step - loss: 0.0056 - accuracy: 0.9983 - recall: 0.9990 - val_loss: 0.1123 - val_accuracy: 0.9772 - val_recall: 0.9800\n",
      "Epoch 10/20\n",
      "127/127 [==============================] - 55s 433ms/step - loss: 0.0050 - accuracy: 0.9985 - recall: 0.9990 - val_loss: 0.1163 - val_accuracy: 0.9772 - val_recall: 0.9813\n",
      "Epoch 11/20\n",
      "127/127 [==============================] - 54s 423ms/step - loss: 0.0061 - accuracy: 0.9985 - recall: 0.9990 - val_loss: 0.1206 - val_accuracy: 0.9782 - val_recall: 0.9827\n",
      "Epoch 12/20\n",
      "127/127 [==============================] - 55s 431ms/step - loss: 0.0052 - accuracy: 0.9988 - recall: 0.9993 - val_loss: 0.1264 - val_accuracy: 0.9762 - val_recall: 0.9827\n",
      "Epoch 13/20\n",
      "127/127 [==============================] - 54s 422ms/step - loss: 0.0065 - accuracy: 0.9980 - recall: 0.9993 - val_loss: 0.1259 - val_accuracy: 0.9762 - val_recall: 0.9800\n",
      "Epoch 14/20\n",
      "127/127 [==============================] - 54s 428ms/step - loss: 0.0042 - accuracy: 0.9990 - recall: 0.9993 - val_loss: 0.1384 - val_accuracy: 0.9762 - val_recall: 0.9760\n",
      "Epoch 15/20\n",
      "127/127 [==============================] - 53s 417ms/step - loss: 0.0031 - accuracy: 0.9993 - recall: 0.9993 - val_loss: 0.1280 - val_accuracy: 0.9772 - val_recall: 0.9813\n",
      "Epoch 16/20\n",
      "127/127 [==============================] - 54s 423ms/step - loss: 0.0028 - accuracy: 0.9990 - recall: 0.9997 - val_loss: 0.1785 - val_accuracy: 0.9733 - val_recall: 0.9720\n",
      "Epoch 17/20\n",
      "127/127 [==============================] - 53s 417ms/step - loss: 0.0034 - accuracy: 0.9990 - recall: 0.9997 - val_loss: 0.1344 - val_accuracy: 0.9772 - val_recall: 0.9800\n",
      "Epoch 18/20\n",
      "127/127 [==============================] - 53s 416ms/step - loss: 6.7966e-04 - accuracy: 0.9998 - recall: 1.0000 - val_loss: 0.1637 - val_accuracy: 0.9802 - val_recall: 0.9827\n",
      "Epoch 19/20\n",
      "127/127 [==============================] - 54s 423ms/step - loss: 0.0041 - accuracy: 0.9990 - recall: 0.9993 - val_loss: 0.1548 - val_accuracy: 0.9772 - val_recall: 0.9827\n",
      "Epoch 20/20\n",
      "127/127 [==============================] - 53s 420ms/step - loss: 0.0057 - accuracy: 0.9988 - recall: 1.0000 - val_loss: 0.1771 - val_accuracy: 0.9772 - val_recall: 0.9800\n",
      "Total Time Elapsed:  18  minutes  10  seconds\n"
     ]
    }
   ],
   "source": [
    "# training\n",
    "start = timer()\n",
    "\n",
    "history = model.fit(train_g, \n",
    "                    epochs=20, \n",
    "                    validation_data=val_g, \n",
    "                    workers = 8\n",
    "                   )\n",
    "\n",
    "end = timer()\n",
    "elapsed = end - start\n",
    "print('Total Time Elapsed: ', int(elapsed//60), ' minutes ', (round(elapsed%60)), ' seconds')"
   ]
  },
  {
   "cell_type": "markdown",
   "metadata": {},
   "source": [
    "## Pretrained Network Method 2\n",
    "requires GPU\n",
    "\n",
    "---\n",
    "### "
   ]
  },
  {
   "cell_type": "markdown",
   "metadata": {},
   "source": []
  },
  {
   "cell_type": "code",
   "execution_count": 26,
   "metadata": {},
   "outputs": [],
   "source": [
    "# model fit\n",
    "model = models.Sequential()\n",
    "model.add(layers.Conv2D(32, 3, activation = 'relu', input_shape=(150, 150, 1)))\n",
    "model.add(layers.MaxPooling2D((2, 2)))\n",
    "model.add(layers.Flatten())\n",
    "model.add(layers.Dense(128, activation = 'relu'))\n",
    "model.add(layers.Dense(1, activation='sigmoid'))"
   ]
  },
  {
   "cell_type": "code",
   "execution_count": 27,
   "metadata": {},
   "outputs": [],
   "source": [
    "# compiling models\n",
    "model.compile(loss='binary_crossentropy',\n",
    "              optimizer=optimizers.RMSprop(lr=1e-4),\n",
    "              metrics=['accuracy', 'Recall'])"
   ]
  },
  {
   "cell_type": "code",
   "execution_count": 28,
   "metadata": {},
   "outputs": [
    {
     "name": "stdout",
     "output_type": "stream",
     "text": [
      "Epoch 1/20\n",
      "127/127 [==============================] - 41s 321ms/step - loss: 0.4936 - accuracy: 0.7930 - recall: 0.9880 - val_loss: 0.3377 - val_accuracy: 0.8941 - val_recall: 0.9320\n",
      "Epoch 2/20\n",
      "127/127 [==============================] - 42s 334ms/step - loss: 0.2692 - accuracy: 0.8986 - recall: 0.9653 - val_loss: 0.2334 - val_accuracy: 0.9010 - val_recall: 0.9853\n",
      "Epoch 3/20\n",
      "127/127 [==============================] - 42s 328ms/step - loss: 0.1991 - accuracy: 0.9253 - recall: 0.9660 - val_loss: 0.2218 - val_accuracy: 0.8990 - val_recall: 0.9880\n",
      "Epoch 4/20\n",
      "127/127 [==============================] - 42s 331ms/step - loss: 0.1637 - accuracy: 0.9404 - recall: 0.9660 - val_loss: 0.1921 - val_accuracy: 0.9267 - val_recall: 0.9107\n",
      "Epoch 5/20\n",
      "127/127 [==============================] - 42s 333ms/step - loss: 0.1400 - accuracy: 0.9488 - recall: 0.9713 - val_loss: 0.1305 - val_accuracy: 0.9545 - val_recall: 0.9627\n",
      "Epoch 6/20\n",
      "127/127 [==============================] - 44s 343ms/step - loss: 0.1317 - accuracy: 0.9500 - recall: 0.9697 - val_loss: 0.1397 - val_accuracy: 0.9426 - val_recall: 0.9813\n",
      "Epoch 7/20\n",
      "127/127 [==============================] - 44s 345ms/step - loss: 0.1157 - accuracy: 0.9557 - recall: 0.9723 - val_loss: 0.1208 - val_accuracy: 0.9515 - val_recall: 0.9800\n",
      "Epoch 8/20\n",
      "127/127 [==============================] - 43s 340ms/step - loss: 0.1116 - accuracy: 0.9584 - recall: 0.9733 - val_loss: 0.1224 - val_accuracy: 0.9495 - val_recall: 0.9840\n",
      "Epoch 9/20\n",
      "127/127 [==============================] - 44s 343ms/step - loss: 0.1070 - accuracy: 0.9607 - recall: 0.9753 - val_loss: 0.1172 - val_accuracy: 0.9594 - val_recall: 0.9560\n",
      "Epoch 10/20\n",
      "127/127 [==============================] - 43s 339ms/step - loss: 0.1047 - accuracy: 0.9592 - recall: 0.9743 - val_loss: 0.1019 - val_accuracy: 0.9614 - val_recall: 0.9800\n",
      "Epoch 11/20\n",
      "127/127 [==============================] - 44s 343ms/step - loss: 0.0997 - accuracy: 0.9636 - recall: 0.9767 - val_loss: 0.1179 - val_accuracy: 0.9584 - val_recall: 0.9533\n",
      "Epoch 12/20\n",
      "127/127 [==============================] - 44s 343ms/step - loss: 0.0993 - accuracy: 0.9631 - recall: 0.9757 - val_loss: 0.0914 - val_accuracy: 0.9644 - val_recall: 0.9760\n",
      "Epoch 13/20\n",
      "127/127 [==============================] - 43s 338ms/step - loss: 0.0936 - accuracy: 0.9661 - recall: 0.9770 - val_loss: 0.1127 - val_accuracy: 0.9624 - val_recall: 0.9547\n",
      "Epoch 14/20\n",
      "127/127 [==============================] - 44s 348ms/step - loss: 0.0897 - accuracy: 0.9688 - recall: 0.9817 - val_loss: 0.1105 - val_accuracy: 0.9554 - val_recall: 0.9867\n",
      "Epoch 15/20\n",
      "127/127 [==============================] - 44s 345ms/step - loss: 0.0848 - accuracy: 0.9691 - recall: 0.9793 - val_loss: 0.1377 - val_accuracy: 0.9426 - val_recall: 0.9907\n",
      "Epoch 16/20\n",
      "127/127 [==============================] - 43s 339ms/step - loss: 0.0832 - accuracy: 0.9688 - recall: 0.9810 - val_loss: 0.0897 - val_accuracy: 0.9683 - val_recall: 0.9867\n",
      "Epoch 17/20\n",
      "127/127 [==============================] - 44s 345ms/step - loss: 0.0819 - accuracy: 0.9678 - recall: 0.9793 - val_loss: 0.0855 - val_accuracy: 0.9693 - val_recall: 0.9853\n",
      "Epoch 18/20\n",
      "127/127 [==============================] - 43s 340ms/step - loss: 0.0765 - accuracy: 0.9708 - recall: 0.9793 - val_loss: 0.0819 - val_accuracy: 0.9673 - val_recall: 0.9760\n",
      "Epoch 19/20\n",
      "127/127 [==============================] - 44s 344ms/step - loss: 0.0747 - accuracy: 0.9750 - recall: 0.9823 - val_loss: 0.1005 - val_accuracy: 0.9634 - val_recall: 0.9880\n",
      "Epoch 20/20\n",
      "127/127 [==============================] - 43s 341ms/step - loss: 0.0744 - accuracy: 0.9713 - recall: 0.9807 - val_loss: 0.1112 - val_accuracy: 0.9634 - val_recall: 0.9547\n",
      "Total Time Elapsed:  14  minutes  41  seconds\n"
     ]
    }
   ],
   "source": [
    "# training\n",
    "start = timer()\n",
    "\n",
    "history = model.fit(train_g, \n",
    "                    epochs=20, \n",
    "                    validation_data=val_g, \n",
    "                    workers = 8\n",
    "                   )\n",
    "\n",
    "end = timer()\n",
    "elapsed = end - start\n",
    "print('Total Time Elapsed: ', int(elapsed//60), ' minutes ', (round(elapsed%60)), ' seconds')"
   ]
  },
  {
   "cell_type": "code",
   "execution_count": 29,
   "metadata": {},
   "outputs": [],
   "source": [
    "# model fit\n",
    "model = models.Sequential()\n",
    "model.add(layers.Conv2D(32, 3, activation = 'relu', input_shape=(150, 150, 1)))\n",
    "model.add(layers.MaxPooling2D((2, 2)))\n",
    "model.add(layers.Conv2D(32, 3, activation = 'relu', input_shape=(150, 150, 1)))\n",
    "model.add(layers.MaxPooling2D((2, 2)))\n",
    "model.add(layers.Conv2D(32, 3, activation = 'relu', input_shape=(150, 150, 1)))\n",
    "model.add(layers.MaxPooling2D((2, 2)))\n",
    "model.add(layers.Flatten())\n",
    "model.add(layers.Dense(64, activation = 'relu'))\n",
    "model.add(layers.Dense(64, activation = 'relu'))\n",
    "model.add(layers.Dense(64, activation = 'relu'))\n",
    "model.add(layers.Dense(64, activation = 'relu'))\n",
    "model.add(layers.Dense(1, activation='sigmoid'))"
   ]
  },
  {
   "cell_type": "code",
   "execution_count": 30,
   "metadata": {},
   "outputs": [],
   "source": [
    "# compiling models\n",
    "model.compile(loss='binary_crossentropy',\n",
    "              optimizer=optimizers.RMSprop(lr=1e-4),\n",
    "              metrics=['accuracy', 'Recall'])"
   ]
  },
  {
   "cell_type": "code",
   "execution_count": 31,
   "metadata": {},
   "outputs": [
    {
     "name": "stdout",
     "output_type": "stream",
     "text": [
      "Epoch 1/20\n",
      "127/127 [==============================] - 38s 303ms/step - loss: 0.5399 - accuracy: 0.7447 - recall: 0.9930 - val_loss: 0.4181 - val_accuracy: 0.7663 - val_recall: 0.9960\n",
      "Epoch 2/20\n",
      "127/127 [==============================] - 40s 319ms/step - loss: 0.3268 - accuracy: 0.8612 - recall: 0.9637 - val_loss: 0.2597 - val_accuracy: 0.8812 - val_recall: 0.9760\n",
      "Epoch 3/20\n",
      "127/127 [==============================] - 41s 321ms/step - loss: 0.2189 - accuracy: 0.9124 - recall: 0.9494 - val_loss: 0.1913 - val_accuracy: 0.9149 - val_recall: 0.9733\n",
      "Epoch 4/20\n",
      "127/127 [==============================] - 40s 315ms/step - loss: 0.1628 - accuracy: 0.9387 - recall: 0.9630 - val_loss: 0.1772 - val_accuracy: 0.9228 - val_recall: 0.9827\n",
      "Epoch 5/20\n",
      "127/127 [==============================] - 42s 333ms/step - loss: 0.1381 - accuracy: 0.9448 - recall: 0.9637 - val_loss: 0.1319 - val_accuracy: 0.9436 - val_recall: 0.9813\n",
      "Epoch 6/20\n",
      "127/127 [==============================] - 42s 327ms/step - loss: 0.1201 - accuracy: 0.9533 - recall: 0.9690 - val_loss: 0.1005 - val_accuracy: 0.9634 - val_recall: 0.9680\n",
      "Epoch 7/20\n",
      "127/127 [==============================] - 42s 334ms/step - loss: 0.1054 - accuracy: 0.9609 - recall: 0.9740 - val_loss: 0.0921 - val_accuracy: 0.9634 - val_recall: 0.9733\n",
      "Epoch 8/20\n",
      "127/127 [==============================] - 42s 333ms/step - loss: 0.0995 - accuracy: 0.9604 - recall: 0.9723 - val_loss: 0.0907 - val_accuracy: 0.9683 - val_recall: 0.9667\n",
      "Epoch 9/20\n",
      "127/127 [==============================] - 42s 333ms/step - loss: 0.0873 - accuracy: 0.9666 - recall: 0.9763 - val_loss: 0.0927 - val_accuracy: 0.9693 - val_recall: 0.9640\n",
      "Epoch 10/20\n",
      "127/127 [==============================] - 43s 335ms/step - loss: 0.0833 - accuracy: 0.9693 - recall: 0.9783 - val_loss: 0.0738 - val_accuracy: 0.9663 - val_recall: 0.9747\n",
      "Epoch 11/20\n",
      "127/127 [==============================] - 43s 336ms/step - loss: 0.0846 - accuracy: 0.9696 - recall: 0.9787 - val_loss: 0.0838 - val_accuracy: 0.9673 - val_recall: 0.9880\n",
      "Epoch 12/20\n",
      "127/127 [==============================] - 42s 334ms/step - loss: 0.0779 - accuracy: 0.9716 - recall: 0.9797 - val_loss: 0.0759 - val_accuracy: 0.9703 - val_recall: 0.9867\n",
      "Epoch 13/20\n",
      "127/127 [==============================] - 43s 335ms/step - loss: 0.0701 - accuracy: 0.9711 - recall: 0.9813 - val_loss: 0.0686 - val_accuracy: 0.9703 - val_recall: 0.9733\n",
      "Epoch 14/20\n",
      "127/127 [==============================] - 42s 330ms/step - loss: 0.0696 - accuracy: 0.9721 - recall: 0.9803 - val_loss: 0.0766 - val_accuracy: 0.9713 - val_recall: 0.9893\n",
      "Epoch 15/20\n",
      "127/127 [==============================] - 42s 334ms/step - loss: 0.0663 - accuracy: 0.9767 - recall: 0.9827 - val_loss: 0.1030 - val_accuracy: 0.9614 - val_recall: 0.9520\n",
      "Epoch 16/20\n",
      "127/127 [==============================] - 42s 334ms/step - loss: 0.0612 - accuracy: 0.9792 - recall: 0.9853 - val_loss: 0.1231 - val_accuracy: 0.9604 - val_recall: 0.9480\n",
      "Epoch 17/20\n",
      "127/127 [==============================] - 41s 326ms/step - loss: 0.0627 - accuracy: 0.9765 - recall: 0.9820 - val_loss: 0.0635 - val_accuracy: 0.9772 - val_recall: 0.9800\n",
      "Epoch 18/20\n",
      "127/127 [==============================] - 42s 332ms/step - loss: 0.0575 - accuracy: 0.9795 - recall: 0.9857 - val_loss: 0.0653 - val_accuracy: 0.9772 - val_recall: 0.9787\n",
      "Epoch 19/20\n",
      "127/127 [==============================] - 41s 326ms/step - loss: 0.0588 - accuracy: 0.9772 - recall: 0.9833 - val_loss: 0.0599 - val_accuracy: 0.9802 - val_recall: 0.9840\n",
      "Epoch 20/20\n",
      "127/127 [==============================] - 42s 329ms/step - loss: 0.0513 - accuracy: 0.9810 - recall: 0.9860 - val_loss: 0.0772 - val_accuracy: 0.9713 - val_recall: 0.9680\n",
      "Total Time Elapsed:  14  minutes  15  seconds\n"
     ]
    }
   ],
   "source": [
    "# training\n",
    "start = timer()\n",
    "\n",
    "history = model.fit(train_g, \n",
    "                    epochs=20, \n",
    "                    validation_data=val_g, \n",
    "                    workers = 8\n",
    "                   )\n",
    "\n",
    "end = timer()\n",
    "elapsed = end - start\n",
    "print('Total Time Elapsed: ', int(elapsed//60), ' minutes ', (round(elapsed%60)), ' seconds')"
   ]
  },
  {
   "cell_type": "code",
   "execution_count": 32,
   "metadata": {},
   "outputs": [
    {
     "data": {
      "image/png": "[encoded data removed]",
      "text/plain": [
       "<Figure size 432x288 with 1 Axes>"
      ]
     },
     "metadata": {},
     "output_type": "display_data"
    },
    {
     "data": {
      "image/png": "[encoded data removed]",
      "text/plain": [
       "<Figure size 432x288 with 1 Axes>"
      ]
     },
     "metadata": {},
     "output_type": "display_data"
    },
    {
     "data": {
      "image/png": "[encoded data removed]",
      "text/plain": [
       "<Figure size 432x288 with 1 Axes>"
      ]
     },
     "metadata": {},
     "output_type": "display_data"
    }
   ],
   "source": [
    "plot_performance(history)"
   ]
  },
  {
   "cell_type": "code",
   "execution_count": 33,
   "metadata": {},
   "outputs": [],
   "source": [
    "model.save('MODEL/3c4d64.h5')"
   ]
  },
  {
   "cell_type": "markdown",
   "metadata": {},
   "source": [
    "### Batch Norm"
   ]
  },
  {
   "cell_type": "code",
   "execution_count": 36,
   "metadata": {},
   "outputs": [],
   "source": [
    "# model fit\n",
    "model = models.Sequential()\n",
    "model.add(layers.Conv2D(32, 3, activation = 'relu', input_shape=(150, 150, 1)))\n",
    "model.add(BatchNormalization())\n",
    "model.add(layers.MaxPooling2D((2, 2)))\n",
    "model.add(layers.Conv2D(64, 3, activation = 'relu'))\n",
    "model.add(BatchNormalization())\n",
    "model.add(layers.MaxPooling2D((2, 2)))\n",
    "model.add(layers.Conv2D(128, 3, activation = 'relu'))\n",
    "model.add(BatchNormalization())\n",
    "model.add(layers.MaxPooling2D((2, 2)))\n",
    "model.add(layers.Conv2D(128, 3, activation = 'relu'))\n",
    "model.add(BatchNormalization())\n",
    "model.add(layers.MaxPooling2D((2, 2)))\n",
    "model.add(layers.Flatten())\n",
    "model.add(layers.Dense(512, activation = 'relu'))\n",
    "model.add(layers.Dense(1, activation='sigmoid'))"
   ]
  },
  {
   "cell_type": "code",
   "execution_count": 37,
   "metadata": {},
   "outputs": [],
   "source": [
    "# compiling models\n",
    "model.compile(loss='binary_crossentropy',\n",
    "              optimizer=optimizers.RMSprop(lr=1e-4),\n",
    "              metrics=['accuracy', 'Recall'])"
   ]
  },
  {
   "cell_type": "code",
   "execution_count": 38,
   "metadata": {},
   "outputs": [
    {
     "name": "stdout",
     "output_type": "stream",
     "text": [
      "Epoch 1/20\n",
      "127/127 [==============================] - 85s 668ms/step - loss: 0.2153 - accuracy: 0.9401 - recall: 0.9580 - val_loss: 1.1117 - val_accuracy: 0.7426 - val_recall: 1.0000\n",
      "Epoch 2/20\n",
      "127/127 [==============================] - 89s 701ms/step - loss: 0.0661 - accuracy: 0.9797 - recall: 0.9863 - val_loss: 2.4291 - val_accuracy: 0.7426 - val_recall: 1.0000\n",
      "Epoch 3/20\n",
      "127/127 [==============================] - 91s 714ms/step - loss: 0.0287 - accuracy: 0.9891 - recall: 0.9927 - val_loss: 3.4327 - val_accuracy: 0.7426 - val_recall: 1.0000\n",
      "Epoch 4/20\n",
      "127/127 [==============================] - 90s 711ms/step - loss: 0.0222 - accuracy: 0.9933 - recall: 0.9953 - val_loss: 2.2558 - val_accuracy: 0.7446 - val_recall: 1.0000\n",
      "Epoch 5/20\n",
      "127/127 [==============================] - 90s 709ms/step - loss: 0.0076 - accuracy: 0.9973 - recall: 0.9983 - val_loss: 0.4523 - val_accuracy: 0.8921 - val_recall: 0.9987\n",
      "Epoch 6/20\n",
      "127/127 [==============================] - 90s 712ms/step - loss: 0.0080 - accuracy: 0.9975 - recall: 0.9990 - val_loss: 0.1060 - val_accuracy: 0.9752 - val_recall: 0.9920\n",
      "Epoch 7/20\n",
      "127/127 [==============================] - 90s 711ms/step - loss: 0.0027 - accuracy: 0.9988 - recall: 0.9990 - val_loss: 0.0813 - val_accuracy: 0.9802 - val_recall: 0.9880\n",
      "Epoch 8/20\n",
      "127/127 [==============================] - 90s 708ms/step - loss: 0.0056 - accuracy: 0.9978 - recall: 0.9987 - val_loss: 0.1093 - val_accuracy: 0.9822 - val_recall: 0.9787\n",
      "Epoch 9/20\n",
      "127/127 [==============================] - 91s 715ms/step - loss: 0.0026 - accuracy: 0.9990 - recall: 0.9987 - val_loss: 0.1473 - val_accuracy: 0.9713 - val_recall: 0.9947\n",
      "Epoch 10/20\n",
      "127/127 [==============================] - 91s 715ms/step - loss: 0.0036 - accuracy: 0.9985 - recall: 0.9987 - val_loss: 0.2259 - val_accuracy: 0.9614 - val_recall: 0.9507\n",
      "Epoch 11/20\n",
      "127/127 [==============================] - 91s 718ms/step - loss: 0.0032 - accuracy: 0.9988 - recall: 0.9993 - val_loss: 0.1076 - val_accuracy: 0.9842 - val_recall: 0.9840\n",
      "Epoch 12/20\n",
      "127/127 [==============================] - 91s 718ms/step - loss: 0.0057 - accuracy: 0.9980 - recall: 0.9987 - val_loss: 0.1629 - val_accuracy: 0.9772 - val_recall: 0.9747\n",
      "Epoch 13/20\n",
      "127/127 [==============================] - 90s 711ms/step - loss: 4.1804e-04 - accuracy: 0.9998 - recall: 1.0000 - val_loss: 0.0838 - val_accuracy: 0.9832 - val_recall: 0.9893\n",
      "Epoch 14/20\n",
      "127/127 [==============================] - 89s 703ms/step - loss: 0.0032 - accuracy: 0.9988 - recall: 0.9990 - val_loss: 0.1337 - val_accuracy: 0.9772 - val_recall: 0.9827\n",
      "Epoch 15/20\n",
      "127/127 [==============================] - 90s 706ms/step - loss: 5.0795e-04 - accuracy: 0.9995 - recall: 0.9997 - val_loss: 0.1629 - val_accuracy: 0.9733 - val_recall: 0.9707\n",
      "Epoch 16/20\n",
      "127/127 [==============================] - 90s 710ms/step - loss: 7.8266e-04 - accuracy: 0.9998 - recall: 0.9997 - val_loss: 0.1213 - val_accuracy: 0.9842 - val_recall: 0.9813\n",
      "Epoch 17/20\n",
      "127/127 [==============================] - 89s 702ms/step - loss: 5.0879e-04 - accuracy: 1.0000 - recall: 1.0000 - val_loss: 0.1958 - val_accuracy: 0.9733 - val_recall: 0.9800\n",
      "Epoch 18/20\n",
      "127/127 [==============================] - 90s 710ms/step - loss: 0.0013 - accuracy: 0.9995 - recall: 1.0000 - val_loss: 0.1219 - val_accuracy: 0.9842 - val_recall: 0.9880\n",
      "Epoch 19/20\n",
      "127/127 [==============================] - 90s 706ms/step - loss: 3.8974e-04 - accuracy: 1.0000 - recall: 1.0000 - val_loss: 0.3618 - val_accuracy: 0.9644 - val_recall: 0.9547\n",
      "Epoch 20/20\n",
      "127/127 [==============================] - 91s 718ms/step - loss: 0.0031 - accuracy: 0.9993 - recall: 0.9993 - val_loss: 0.1681 - val_accuracy: 0.9772 - val_recall: 0.9800\n",
      "Total Time Elapsed:  30  minutes  31  seconds\n"
     ]
    }
   ],
   "source": [
    "# training\n",
    "start = timer()\n",
    "\n",
    "history = model.fit(train_g, \n",
    "                    epochs=20, \n",
    "                    validation_data=val_g, \n",
    "                    workers = 8\n",
    "                   )\n",
    "\n",
    "end = timer()\n",
    "elapsed = end - start\n",
    "print('Total Time Elapsed: ', int(elapsed//60), ' minutes ', (round(elapsed%60)), ' seconds')"
   ]
  },
  {
   "cell_type": "code",
   "execution_count": 42,
   "metadata": {},
   "outputs": [],
   "source": [
    "# model fit\n",
    "model = models.Sequential()\n",
    "model.add(layers.Conv2D(32, 3, activation = 'relu', input_shape=(150, 150, 1)))\n",
    "model.add(BatchNormalization())\n",
    "model.add(layers.MaxPooling2D((2, 2)))\n",
    "model.add(layers.Conv2D(64, 3, activation = 'relu'))\n",
    "model.add(BatchNormalization())\n",
    "model.add(layers.MaxPooling2D((2, 2)))\n",
    "model.add(layers.Conv2D(128, 3, activation = 'relu'))\n",
    "model.add(BatchNormalization())\n",
    "model.add(layers.MaxPooling2D((2, 2)))\n",
    "model.add(layers.Flatten())\n",
    "model.add(layers.Dense(256, activation = 'relu'))\n",
    "model.add(layers.Dense(128, activation = 'relu'))\n",
    "model.add(layers.Dense(64, activation = 'relu'))\n",
    "model.add(layers.Dense(1, activation='sigmoid'))"
   ]
  },
  {
   "cell_type": "code",
   "execution_count": 43,
   "metadata": {},
   "outputs": [],
   "source": [
    "# compiling models\n",
    "model.compile(loss='binary_crossentropy',\n",
    "              optimizer=optimizers.RMSprop(lr=1e-4),\n",
    "              metrics=['accuracy', 'Recall'])"
   ]
  },
  {
   "cell_type": "code",
   "execution_count": 44,
   "metadata": {},
   "outputs": [
    {
     "name": "stdout",
     "output_type": "stream",
     "text": [
      "Epoch 1/10\n",
      "127/127 [==============================] - 92s 721ms/step - loss: 0.2024 - accuracy: 0.9389 - recall: 0.9567 - val_loss: 1.4839 - val_accuracy: 0.7426 - val_recall: 1.0000\n",
      "Epoch 2/10\n",
      "127/127 [==============================] - 93s 732ms/step - loss: 0.0654 - accuracy: 0.9780 - recall: 0.9833 - val_loss: 3.7567 - val_accuracy: 0.7426 - val_recall: 1.0000\n",
      "Epoch 3/10\n",
      "127/127 [==============================] - 93s 733ms/step - loss: 0.0441 - accuracy: 0.9861 - recall: 0.9893 - val_loss: 4.8973 - val_accuracy: 0.7426 - val_recall: 1.0000\n",
      "Epoch 4/10\n",
      "127/127 [==============================] - 92s 723ms/step - loss: 0.0233 - accuracy: 0.9904 - recall: 0.9937 - val_loss: 2.4882 - val_accuracy: 0.7564 - val_recall: 1.0000\n",
      "Epoch 5/10\n",
      "127/127 [==============================] - 98s 769ms/step - loss: 0.0147 - accuracy: 0.9955 - recall: 0.9970 - val_loss: 0.6152 - val_accuracy: 0.9079 - val_recall: 0.9987\n",
      "Epoch 6/10\n",
      "127/127 [==============================] - 95s 751ms/step - loss: 0.0111 - accuracy: 0.9965 - recall: 0.9977 - val_loss: 0.2228 - val_accuracy: 0.9673 - val_recall: 0.9947\n",
      "Epoch 7/10\n",
      "127/127 [==============================] - 96s 753ms/step - loss: 0.0113 - accuracy: 0.9963 - recall: 0.9973 - val_loss: 0.1109 - val_accuracy: 0.9802 - val_recall: 0.9787\n",
      "Epoch 8/10\n",
      "127/127 [==============================] - 92s 728ms/step - loss: 0.0041 - accuracy: 0.9985 - recall: 0.9997 - val_loss: 0.2326 - val_accuracy: 0.9673 - val_recall: 0.9960\n",
      "Epoch 9/10\n",
      "127/127 [==============================] - 92s 728ms/step - loss: 0.0012 - accuracy: 0.9998 - recall: 0.9997 - val_loss: 0.1836 - val_accuracy: 0.9752 - val_recall: 0.9693\n",
      "Epoch 10/10\n",
      "127/127 [==============================] - 92s 721ms/step - loss: 0.0081 - accuracy: 0.9983 - recall: 0.9987 - val_loss: 0.1594 - val_accuracy: 0.9842 - val_recall: 0.9840\n",
      "Total Time Elapsed:  15  minutes  51  seconds\n"
     ]
    }
   ],
   "source": [
    "# training\n",
    "start = timer()\n",
    "\n",
    "history = model.fit(train_g, \n",
    "                    epochs=10, \n",
    "                    validation_data=val_g, \n",
    "                    workers = 6\n",
    "                   )\n",
    "\n",
    "end = timer()\n",
    "elapsed = end - start\n",
    "print('Total Time Elapsed: ', int(elapsed//60), ' minutes ', (round(elapsed%60)), ' seconds')"
   ]
  },
  {
   "cell_type": "code",
   "execution_count": 45,
   "metadata": {},
   "outputs": [],
   "source": [
    "# model fit\n",
    "model = models.Sequential()\n",
    "model.add(layers.Conv2D(32, 3, activation = 'relu', input_shape=(150, 150, 1)))\n",
    "model.add(BatchNormalization())\n",
    "model.add(layers.MaxPooling2D((2, 2)))\n",
    "model.add(layers.Conv2D(64, 3, activation = 'relu'))\n",
    "model.add(BatchNormalization())\n",
    "model.add(layers.MaxPooling2D((2, 2)))\n",
    "model.add(layers.Conv2D(128, 3, activation = 'relu'))\n",
    "model.add(BatchNormalization())\n",
    "model.add(layers.MaxPooling2D((2, 2)))\n",
    "model.add(layers.Flatten())\n",
    "model.add(layers.Dense(256, activation = 'relu'))\n",
    "model.add(layers.Dense(128, activation = 'relu'))\n",
    "model.add(layers.Dense(64, activation = 'relu'))\n",
    "model.add(layers.Dense(1, activation='sigmoid'))"
   ]
  },
  {
   "cell_type": "code",
   "execution_count": 46,
   "metadata": {},
   "outputs": [],
   "source": [
    "# compiling models\n",
    "model.compile(loss='binary_crossentropy',\n",
    "              optimizer=optimizers.Adam(),\n",
    "              metrics=['accuracy', 'Recall'])"
   ]
  },
  {
   "cell_type": "code",
   "execution_count": 47,
   "metadata": {},
   "outputs": [
    {
     "name": "stdout",
     "output_type": "stream",
     "text": [
      "Epoch 1/10\n",
      "127/127 [==============================] - 82s 645ms/step - loss: 0.3396 - accuracy: 0.9268 - recall: 0.9464 - val_loss: 9.9174 - val_accuracy: 0.7426 - val_recall: 1.0000\n",
      "Epoch 2/10\n",
      "127/127 [==============================] - 87s 687ms/step - loss: 0.0776 - accuracy: 0.9733 - recall: 0.9823 - val_loss: 8.3805 - val_accuracy: 0.7426 - val_recall: 1.0000\n",
      "Epoch 3/10\n",
      "127/127 [==============================] - 91s 713ms/step - loss: 0.0534 - accuracy: 0.9822 - recall: 0.9870 - val_loss: 4.0520 - val_accuracy: 0.7426 - val_recall: 1.0000\n",
      "Epoch 4/10\n",
      "127/127 [==============================] - 90s 707ms/step - loss: 0.0512 - accuracy: 0.9839 - recall: 0.9890 - val_loss: 1.5277 - val_accuracy: 0.7693 - val_recall: 1.0000\n",
      "Epoch 5/10\n",
      "127/127 [==============================] - 89s 701ms/step - loss: 0.0508 - accuracy: 0.9829 - recall: 0.9887 - val_loss: 0.1245 - val_accuracy: 0.9584 - val_recall: 0.9453\n",
      "Epoch 6/10\n",
      "127/127 [==============================] - 89s 702ms/step - loss: 0.0230 - accuracy: 0.9916 - recall: 0.9943 - val_loss: 3.7753 - val_accuracy: 0.7525 - val_recall: 1.0000\n",
      "Epoch 7/10\n",
      "127/127 [==============================] - 92s 722ms/step - loss: 0.0293 - accuracy: 0.9896 - recall: 0.9933 - val_loss: 1.5860 - val_accuracy: 0.8020 - val_recall: 1.0000\n",
      "Epoch 8/10\n",
      "127/127 [==============================] - 90s 706ms/step - loss: 0.0235 - accuracy: 0.9918 - recall: 0.9947 - val_loss: 0.6204 - val_accuracy: 0.8079 - val_recall: 0.7413\n",
      "Epoch 9/10\n",
      "127/127 [==============================] - 92s 724ms/step - loss: 0.0113 - accuracy: 0.9958 - recall: 0.9967 - val_loss: 0.8079 - val_accuracy: 0.8228 - val_recall: 0.7613\n",
      "Epoch 10/10\n",
      "127/127 [==============================] - 91s 717ms/step - loss: 0.0077 - accuracy: 0.9978 - recall: 0.9983 - val_loss: 0.2488 - val_accuracy: 0.9604 - val_recall: 0.9960\n",
      "Total Time Elapsed:  15  minutes  8  seconds\n"
     ]
    }
   ],
   "source": [
    "# training\n",
    "start = timer()\n",
    "\n",
    "history = model.fit(train_g, \n",
    "                    epochs=10, \n",
    "                    validation_data=val_g, \n",
    "                    workers = 6\n",
    "                   )\n",
    "\n",
    "end = timer()\n",
    "elapsed = end - start\n",
    "print('Total Time Elapsed: ', int(elapsed//60), ' minutes ', (round(elapsed%60)), ' seconds')"
   ]
  },
  {
   "cell_type": "code",
   "execution_count": 6,
   "metadata": {},
   "outputs": [],
   "source": [
    "# model fit\n",
    "model = models.Sequential()\n",
    "model.add(layers.Conv2D(64, 3, activation = 'relu', input_shape=(150, 150, 1)))\n",
    "model.add(layers.MaxPooling2D((2, 2)))\n",
    "model.add(layers.Conv2D(64, 3, activation = 'relu'))\n",
    "model.add(layers.MaxPooling2D((2, 2)))\n",
    "model.add(layers.Conv2D(128, 3, activation = 'relu'))\n",
    "model.add(layers.MaxPooling2D((2, 2)))\n",
    "model.add(layers.Conv2D(128, 3, activation = 'relu'))\n",
    "model.add(layers.MaxPooling2D((2, 2)))\n",
    "model.add(layers.Flatten())\n",
    "model.add(layers.Dense(512, activation = 'relu'))\n",
    "model.add(layers.Dense(1, activation='sigmoid'))"
   ]
  },
  {
   "cell_type": "code",
   "execution_count": 7,
   "metadata": {},
   "outputs": [],
   "source": [
    "# compiling models\n",
    "model.compile(loss='binary_crossentropy',\n",
    "              optimizer=optimizers.Adam(),\n",
    "              metrics=['accuracy', 'Recall'])"
   ]
  },
  {
   "cell_type": "code",
   "execution_count": 8,
   "metadata": {},
   "outputs": [
    {
     "name": "stdout",
     "output_type": "stream",
     "text": [
      "Epoch 1/20\n",
      "127/127 [==============================] - 109s 858ms/step - loss: 0.3489 - accuracy: 0.8506 - recall: 0.9593 - val_loss: 0.1758 - val_accuracy: 0.9267 - val_recall: 0.9747\n",
      "Epoch 2/20\n",
      "127/127 [==============================] - 124s 973ms/step - loss: 0.1189 - accuracy: 0.9552 - recall: 0.9713 - val_loss: 0.1074 - val_accuracy: 0.9594 - val_recall: 0.9627\n",
      "Epoch 3/20\n",
      "127/127 [==============================] - 117s 920ms/step - loss: 0.1087 - accuracy: 0.9599 - recall: 0.9723 - val_loss: 0.0831 - val_accuracy: 0.9673 - val_recall: 0.9707\n",
      "Epoch 4/20\n",
      "127/127 [==============================] - 119s 935ms/step - loss: 0.0926 - accuracy: 0.9661 - recall: 0.9773 - val_loss: 0.1339 - val_accuracy: 0.9515 - val_recall: 0.9373\n",
      "Epoch 5/20\n",
      "127/127 [==============================] - 115s 904ms/step - loss: 0.0627 - accuracy: 0.9760 - recall: 0.9837 - val_loss: 0.1073 - val_accuracy: 0.9564 - val_recall: 0.9920\n",
      "Epoch 6/20\n",
      "127/127 [==============================] - 119s 939ms/step - loss: 0.0599 - accuracy: 0.9777 - recall: 0.9853 - val_loss: 0.0854 - val_accuracy: 0.9703 - val_recall: 0.9693\n",
      "Epoch 7/20\n",
      "127/127 [==============================] - 120s 945ms/step - loss: 0.0474 - accuracy: 0.9819 - recall: 0.9870 - val_loss: 0.0616 - val_accuracy: 0.9792 - val_recall: 0.9893\n",
      "Epoch 8/20\n",
      "127/127 [==============================] - 123s 967ms/step - loss: 0.0322 - accuracy: 0.9874 - recall: 0.9910 - val_loss: 0.0682 - val_accuracy: 0.9792 - val_recall: 0.9813\n",
      "Epoch 9/20\n",
      "127/127 [==============================] - 117s 923ms/step - loss: 0.0380 - accuracy: 0.9859 - recall: 0.9893 - val_loss: 0.0661 - val_accuracy: 0.9792 - val_recall: 0.9893\n",
      "Epoch 10/20\n",
      "127/127 [==============================] - 117s 921ms/step - loss: 0.0293 - accuracy: 0.9901 - recall: 0.9923 - val_loss: 0.0987 - val_accuracy: 0.9604 - val_recall: 0.9920\n",
      "Epoch 11/20\n",
      "127/127 [==============================] - 117s 925ms/step - loss: 0.0243 - accuracy: 0.9916 - recall: 0.9947 - val_loss: 0.0730 - val_accuracy: 0.9772 - val_recall: 0.9800\n",
      "Epoch 12/20\n",
      "127/127 [==============================] - 120s 942ms/step - loss: 0.0218 - accuracy: 0.9916 - recall: 0.9930 - val_loss: 0.0810 - val_accuracy: 0.9782 - val_recall: 0.9907\n",
      "Epoch 13/20\n",
      "127/127 [==============================] - 121s 949ms/step - loss: 0.0195 - accuracy: 0.9933 - recall: 0.9953 - val_loss: 0.0843 - val_accuracy: 0.9792 - val_recall: 0.9827\n",
      "Epoch 14/20\n",
      "127/127 [==============================] - 120s 942ms/step - loss: 0.0081 - accuracy: 0.9973 - recall: 0.9973 - val_loss: 0.0867 - val_accuracy: 0.9851 - val_recall: 0.9853\n",
      "Epoch 15/20\n",
      "127/127 [==============================] - 117s 924ms/step - loss: 0.0101 - accuracy: 0.9958 - recall: 0.9973 - val_loss: 0.1008 - val_accuracy: 0.9762 - val_recall: 0.9867\n",
      "Epoch 16/20\n",
      "127/127 [==============================] - 110s 865ms/step - loss: 0.0290 - accuracy: 0.9884 - recall: 0.9917 - val_loss: 0.0718 - val_accuracy: 0.9832 - val_recall: 0.9853\n",
      "Epoch 17/20\n",
      "127/127 [==============================] - 112s 881ms/step - loss: 0.0051 - accuracy: 0.9988 - recall: 0.9993 - val_loss: 0.0895 - val_accuracy: 0.9782 - val_recall: 0.9813\n",
      "Epoch 18/20\n",
      "127/127 [==============================] - 112s 882ms/step - loss: 0.0054 - accuracy: 0.9980 - recall: 0.9990 - val_loss: 0.1167 - val_accuracy: 0.9733 - val_recall: 0.9720\n",
      "Epoch 19/20\n",
      "127/127 [==============================] - 111s 877ms/step - loss: 0.0036 - accuracy: 0.9990 - recall: 0.9990 - val_loss: 0.1060 - val_accuracy: 0.9832 - val_recall: 0.9893\n",
      "Epoch 20/20\n",
      "127/127 [==============================] - 113s 886ms/step - loss: 1.8007e-04 - accuracy: 1.0000 - recall: 1.0000 - val_loss: 0.1273 - val_accuracy: 0.9792 - val_recall: 0.9853\n",
      "Total Time Elapsed:  39  minutes  32  seconds\n"
     ]
    }
   ],
   "source": [
    "# training\n",
    "start = timer()\n",
    "\n",
    "history = model.fit(train_g, \n",
    "                    epochs=20, \n",
    "                    validation_data=val_g, \n",
    "                    workers = 7\n",
    "                   )\n",
    "\n",
    "end = timer()\n",
    "elapsed = end - start\n",
    "print('Total Time Elapsed: ', int(elapsed//60), ' minutes ', (round(elapsed%60)), ' seconds')"
   ]
  },
  {
   "cell_type": "code",
   "execution_count": 51,
   "metadata": {},
   "outputs": [],
   "source": [
    "# model.save('MODEL/4c1d512_adam.h5')"
   ]
  },
  {
   "cell_type": "code",
   "execution_count": 11,
   "metadata": {},
   "outputs": [
    {
     "name": "stdout",
     "output_type": "stream",
     "text": [
      "19/19 [==============================] - 5s 282ms/step - loss: 1.6592 - accuracy: 0.8635 - recall: 0.9943\n"
     ]
    }
   ],
   "source": [
    "scores = model.evaluate(test_g, verbose=1)"
   ]
  },
  {
   "cell_type": "code",
   "execution_count": 15,
   "metadata": {},
   "outputs": [],
   "source": [
    "# model fit\n",
    "model = models.Sequential()\n",
    "model.add(layers.Conv2D(64, 3, activation = 'relu', input_shape=(150, 150, 1)))\n",
    "model.add(BatchNormalization())\n",
    "model.add(layers.MaxPooling2D((2, 2)))\n",
    "model.add(layers.Conv2D(64, 3, activation = 'relu'))\n",
    "model.add(BatchNormalization())\n",
    "model.add(layers.MaxPooling2D((2, 2)))\n",
    "model.add(layers.Conv2D(128, 3, activation = 'relu'))\n",
    "model.add(BatchNormalization())\n",
    "model.add(layers.MaxPooling2D((2, 2)))\n",
    "model.add(layers.Flatten())\n",
    "model.add(layers.Dense(512, activation = 'relu'))\n",
    "model.add(layers.Dense(1, activation='sigmoid'))"
   ]
  },
  {
   "cell_type": "code",
   "execution_count": 16,
   "metadata": {},
   "outputs": [],
   "source": [
    "# compiling models\n",
    "model.compile(loss='binary_crossentropy',\n",
    "              optimizer=optimizers.Adam(),\n",
    "              metrics=['accuracy', 'Recall'])"
   ]
  },
  {
   "cell_type": "code",
   "execution_count": 17,
   "metadata": {},
   "outputs": [
    {
     "name": "stdout",
     "output_type": "stream",
     "text": [
      "Epoch 1/10\n",
      "127/127 [==============================] - 166s 1s/step - loss: 0.5813 - accuracy: 0.9406 - recall: 0.9520 - val_loss: 44.6919 - val_accuracy: 0.7426 - val_recall: 1.0000\n",
      "Epoch 2/10\n",
      "127/127 [==============================] - 175s 1s/step - loss: 0.0751 - accuracy: 0.9740 - recall: 0.9800 - val_loss: 67.6508 - val_accuracy: 0.7426 - val_recall: 1.0000\n",
      "Epoch 3/10\n",
      "127/127 [==============================] - 174s 1s/step - loss: 0.0539 - accuracy: 0.9807 - recall: 0.9863 - val_loss: 19.8565 - val_accuracy: 0.7426 - val_recall: 1.0000\n",
      "Epoch 4/10\n",
      "127/127 [==============================] - 179s 1s/step - loss: 0.0363 - accuracy: 0.9871 - recall: 0.9910 - val_loss: 6.5155 - val_accuracy: 0.7446 - val_recall: 1.0000\n",
      "Epoch 5/10\n",
      "127/127 [==============================] - 179s 1s/step - loss: 0.0231 - accuracy: 0.9906 - recall: 0.9930 - val_loss: 0.1347 - val_accuracy: 0.9653 - val_recall: 0.9960\n",
      "Epoch 6/10\n",
      "127/127 [==============================] - 178s 1s/step - loss: 0.0386 - accuracy: 0.9864 - recall: 0.9897 - val_loss: 0.0582 - val_accuracy: 0.9822 - val_recall: 0.9867\n",
      "Epoch 7/10\n",
      "127/127 [==============================] - 158s 1s/step - loss: 0.0189 - accuracy: 0.9911 - recall: 0.9937 - val_loss: 0.0865 - val_accuracy: 0.9782 - val_recall: 0.9747\n",
      "Epoch 8/10\n",
      "127/127 [==============================] - 147s 1s/step - loss: 0.0104 - accuracy: 0.9975 - recall: 0.9987 - val_loss: 5.9455 - val_accuracy: 0.6248 - val_recall: 0.4947\n",
      "Epoch 9/10\n",
      "127/127 [==============================] - 146s 1s/step - loss: 0.0068 - accuracy: 0.9985 - recall: 0.9987 - val_loss: 0.0888 - val_accuracy: 0.9782 - val_recall: 0.9947\n",
      "Epoch 10/10\n",
      "127/127 [==============================] - 150s 1s/step - loss: 0.0081 - accuracy: 0.9963 - recall: 0.9977 - val_loss: 2.8707 - val_accuracy: 0.7693 - val_recall: 1.0000\n",
      "Total Time Elapsed:  27  minutes  55  seconds\n"
     ]
    }
   ],
   "source": [
    "# training\n",
    "start = timer()\n",
    "\n",
    "history = model.fit(train_g, \n",
    "                    epochs=10, \n",
    "                    validation_data=val_g, \n",
    "                    workers = 7\n",
    "                   )\n",
    "\n",
    "end = timer()\n",
    "elapsed = end - start\n",
    "print('Total Time Elapsed: ', int(elapsed//60), ' minutes ', (round(elapsed%60)), ' seconds')"
   ]
  },
  {
   "cell_type": "code",
   "execution_count": 18,
   "metadata": {},
   "outputs": [
    {
     "name": "stdout",
     "output_type": "stream",
     "text": [
      "19/19 [==============================] - 5s 288ms/step - loss: 9.6262 - accuracy: 0.6075 - recall: 1.0000\n"
     ]
    }
   ],
   "source": [
    "scores = model.evaluate(test_g, verbose=1)"
   ]
  },
  {
   "cell_type": "code",
   "execution_count": 23,
   "metadata": {},
   "outputs": [
    {
     "name": "stdout",
     "output_type": "stream",
     "text": [
      "Found 4043 images belonging to 2 classes.\n",
      "Epoch 1/30\n",
      "127/127 [==============================] - 69s 546ms/step - loss: 0.4588 - accuracy: 0.8004 - recall: 0.9310 - val_loss: 0.1923 - val_accuracy: 0.9208 - val_recall: 0.9373\n",
      "Epoch 2/30\n",
      "127/127 [==============================] - 88s 694ms/step - loss: 0.2202 - accuracy: 0.9045 - recall: 0.9380 - val_loss: 0.1913 - val_accuracy: 0.9198 - val_recall: 0.9053\n",
      "Epoch 3/30\n",
      "127/127 [==============================] - 84s 662ms/step - loss: 0.2162 - accuracy: 0.9097 - recall: 0.9400 - val_loss: 0.1948 - val_accuracy: 0.9327 - val_recall: 0.9200\n",
      "Epoch 4/30\n",
      "127/127 [==============================] - 80s 633ms/step - loss: 0.1818 - accuracy: 0.9307 - recall: 0.9560 - val_loss: 0.1325 - val_accuracy: 0.9386 - val_recall: 0.9773\n",
      "Epoch 5/30\n",
      "127/127 [==============================] - 78s 614ms/step - loss: 0.1661 - accuracy: 0.9369 - recall: 0.9567 - val_loss: 0.1533 - val_accuracy: 0.9495 - val_recall: 0.9373\n",
      "Epoch 6/30\n",
      "127/127 [==============================] - 85s 667ms/step - loss: 0.1309 - accuracy: 0.9493 - recall: 0.9647 - val_loss: 0.1435 - val_accuracy: 0.9564 - val_recall: 0.9480\n",
      "Epoch 7/30\n",
      "127/127 [==============================] - 86s 675ms/step - loss: 0.1384 - accuracy: 0.9481 - recall: 0.9683 - val_loss: 0.1737 - val_accuracy: 0.9495 - val_recall: 0.9453\n",
      "Epoch 8/30\n",
      "127/127 [==============================] - 87s 685ms/step - loss: 0.1467 - accuracy: 0.9399 - recall: 0.9560 - val_loss: 0.1308 - val_accuracy: 0.9554 - val_recall: 0.9480\n",
      "Epoch 9/30\n",
      "127/127 [==============================] - 87s 682ms/step - loss: 0.1202 - accuracy: 0.9520 - recall: 0.9650 - val_loss: 0.1569 - val_accuracy: 0.9525 - val_recall: 0.9413\n",
      "Epoch 10/30\n",
      "127/127 [==============================] - 88s 696ms/step - loss: 0.1192 - accuracy: 0.9584 - recall: 0.9697 - val_loss: 0.1334 - val_accuracy: 0.9584 - val_recall: 0.9520\n",
      "Epoch 11/30\n",
      "127/127 [==============================] - 85s 671ms/step - loss: 0.1245 - accuracy: 0.9513 - recall: 0.9667 - val_loss: 0.1261 - val_accuracy: 0.9545 - val_recall: 0.9467\n",
      "Epoch 12/30\n",
      "127/127 [==============================] - 82s 647ms/step - loss: 0.1121 - accuracy: 0.9560 - recall: 0.9657 - val_loss: 0.1339 - val_accuracy: 0.9554 - val_recall: 0.9520\n",
      "Epoch 13/30\n",
      "127/127 [==============================] - 83s 654ms/step - loss: 0.1156 - accuracy: 0.9567 - recall: 0.9717 - val_loss: 0.1297 - val_accuracy: 0.9545 - val_recall: 0.9440\n",
      "Epoch 14/30\n",
      "127/127 [==============================] - 83s 656ms/step - loss: 0.0943 - accuracy: 0.9636 - recall: 0.9733 - val_loss: 0.1313 - val_accuracy: 0.9485 - val_recall: 0.9400\n",
      "Epoch 15/30\n",
      "127/127 [==============================] - 84s 661ms/step - loss: 0.0963 - accuracy: 0.9646 - recall: 0.9747 - val_loss: 0.1441 - val_accuracy: 0.9505 - val_recall: 0.9653\n",
      "Epoch 16/30\n",
      "127/127 [==============================] - 82s 650ms/step - loss: 0.0987 - accuracy: 0.9636 - recall: 0.9740 - val_loss: 0.1104 - val_accuracy: 0.9594 - val_recall: 0.9507\n",
      "Epoch 17/30\n",
      "127/127 [==============================] - 81s 638ms/step - loss: 0.0917 - accuracy: 0.9688 - recall: 0.9763 - val_loss: 0.1585 - val_accuracy: 0.9495 - val_recall: 0.9347\n",
      "Epoch 18/30\n",
      "127/127 [==============================] - 78s 612ms/step - loss: 0.0832 - accuracy: 0.9686 - recall: 0.9747 - val_loss: 0.1245 - val_accuracy: 0.9594 - val_recall: 0.9520\n",
      "Epoch 19/30\n",
      "127/127 [==============================] - 84s 664ms/step - loss: 0.0790 - accuracy: 0.9718 - recall: 0.9777 - val_loss: 0.1396 - val_accuracy: 0.9485 - val_recall: 0.9373\n",
      "Epoch 20/30\n",
      "127/127 [==============================] - 80s 633ms/step - loss: 0.0788 - accuracy: 0.9698 - recall: 0.9783 - val_loss: 0.1633 - val_accuracy: 0.9525 - val_recall: 0.9400\n",
      "Epoch 21/30\n",
      "127/127 [==============================] - 82s 646ms/step - loss: 0.0765 - accuracy: 0.9701 - recall: 0.9770 - val_loss: 0.0998 - val_accuracy: 0.9723 - val_recall: 0.9733\n",
      "Epoch 22/30\n",
      "127/127 [==============================] - 82s 646ms/step - loss: 0.0846 - accuracy: 0.9669 - recall: 0.9767 - val_loss: 0.1396 - val_accuracy: 0.9594 - val_recall: 0.9533\n",
      "Epoch 23/30\n",
      "127/127 [==============================] - 86s 678ms/step - loss: 0.0770 - accuracy: 0.9713 - recall: 0.9780 - val_loss: 0.1139 - val_accuracy: 0.9653 - val_recall: 0.9560\n",
      "Epoch 24/30\n",
      "127/127 [==============================] - 82s 647ms/step - loss: 0.0767 - accuracy: 0.9735 - recall: 0.9800 - val_loss: 0.1384 - val_accuracy: 0.9604 - val_recall: 0.9507\n",
      "Epoch 25/30\n",
      "127/127 [==============================] - 87s 686ms/step - loss: 0.0672 - accuracy: 0.9765 - recall: 0.9830 - val_loss: 0.1665 - val_accuracy: 0.9574 - val_recall: 0.9480\n",
      "Epoch 26/30\n",
      "127/127 [==============================] - 83s 654ms/step - loss: 0.0764 - accuracy: 0.9725 - recall: 0.9807 - val_loss: 0.1054 - val_accuracy: 0.9644 - val_recall: 0.9600\n",
      "Epoch 27/30\n",
      "127/127 [==============================] - 81s 635ms/step - loss: 0.0746 - accuracy: 0.9725 - recall: 0.9797 - val_loss: 0.1676 - val_accuracy: 0.9515 - val_recall: 0.9387\n",
      "Epoch 28/30\n",
      "127/127 [==============================] - 81s 642ms/step - loss: 0.0715 - accuracy: 0.9743 - recall: 0.9820 - val_loss: 0.1738 - val_accuracy: 0.9535 - val_recall: 0.9413\n",
      "Epoch 29/30\n",
      "127/127 [==============================] - 81s 635ms/step - loss: 0.0623 - accuracy: 0.9763 - recall: 0.9820 - val_loss: 0.1006 - val_accuracy: 0.9653 - val_recall: 0.9587\n",
      "Epoch 30/30\n",
      "127/127 [==============================] - 80s 629ms/step - loss: 0.0651 - accuracy: 0.9765 - recall: 0.9840 - val_loss: 0.1510 - val_accuracy: 0.9545 - val_recall: 0.9440\n",
      "Total Time Elapsed:  42  minutes  22  seconds\n"
     ]
    }
   ],
   "source": [
    "# try adding slight rotation\n",
    "data_aug_train3 = image.ImageDataGenerator(rescale = 1/255,\n",
    "                                           brightness_range = [0.6, 1.0],\n",
    "                                           rotation_range = 10,\n",
    "                                           zoom_range = 0.2)\n",
    "train_g4 = data_aug_train3.flow_from_directory(train_dir,\n",
    "                                              target_size = (150,150), \n",
    "                                              color_mode='grayscale',\n",
    "                                              class_mode='binary')\n",
    "# model fit\n",
    "model = models.Sequential()\n",
    "model.add(layers.Conv2D(32, 3, activation = 'relu', input_shape=(150, 150, 1)))\n",
    "model.add(layers.MaxPooling2D((2, 2)))\n",
    "model.add(layers.Conv2D(64, 3, activation = 'relu'))\n",
    "model.add(layers.MaxPooling2D((2, 2)))\n",
    "model.add(layers.Conv2D(128, 3, activation = 'relu'))\n",
    "model.add(layers.MaxPooling2D((2, 2)))\n",
    "model.add(layers.Flatten())\n",
    "model.add(layers.Dense(512, activation = 'relu'))\n",
    "model.add(layers.Dense(1, activation='sigmoid'))\n",
    "# compiling models\n",
    "model.compile(loss='binary_crossentropy',\n",
    "              optimizer=optimizers.Adam(amsgrad = True),\n",
    "              metrics=['accuracy', 'Recall'])\n",
    "# training\n",
    "start = timer()\n",
    "history = model.fit(train_g4, \n",
    "                    epochs=30, \n",
    "                    validation_data=val_g, \n",
    "                    workers = 8\n",
    "                   )\n",
    "end = timer()\n",
    "elapsed = end - start\n",
    "print('Total Time Elapsed: ', int(elapsed//60), ' minutes ', (round(elapsed%60)), ' seconds')"
   ]
  },
  {
   "cell_type": "code",
   "execution_count": 24,
   "metadata": {},
   "outputs": [
    {
     "name": "stdout",
     "output_type": "stream",
     "text": [
      "19/19 [==============================] - 5s 259ms/step - loss: 0.3191 - accuracy: 0.9283 - recall: 0.9744\n"
     ]
    }
   ],
   "source": [
    "scores = model.evaluate(test_g, verbose=1)"
   ]
  },
  {
   "cell_type": "code",
   "execution_count": null,
   "metadata": {},
   "outputs": [],
   "source": []
  },
  {
   "cell_type": "code",
   "execution_count": null,
   "metadata": {},
   "outputs": [],
   "source": []
  },
  {
   "cell_type": "code",
   "execution_count": null,
   "metadata": {},
   "outputs": [],
   "source": []
  },
  {
   "cell_type": "code",
   "execution_count": 44,
   "metadata": {},
   "outputs": [
    {
     "name": "stdout",
     "output_type": "stream",
     "text": [
      "Found 4043 images belonging to 2 classes.\n",
      "Found 1010 images belonging to 2 classes.\n"
     ]
    }
   ],
   "source": [
    "from keras.applications import VGG16\n",
    "\n",
    "train_g = image.ImageDataGenerator(rescale = 1/255).flow_from_directory(train_dir,\n",
    "                                                                  target_size = (150,150), \n",
    "                                                                  color_mode='rgb',\n",
    "                                                                  class_mode='binary')\n",
    "val_g = image.ImageDataGenerator(rescale = 1/255).flow_from_directory(val_dir,\n",
    "                                                                target_size = (150,150), \n",
    "                                                                color_mode='rgb',\n",
    "                                                                class_mode='binary')\n",
    "cnn_base = VGG16(weights='imagenet', \n",
    "                 include_top=False, \n",
    "                 input_shape=(150, 150, 3))"
   ]
  },
  {
   "cell_type": "code",
   "execution_count": 45,
   "metadata": {},
   "outputs": [],
   "source": [
    "model = models.Sequential()\n",
    "model.add(cnn_base)\n",
    "model.add(layers.Flatten())\n",
    "model.add(layers.Dense(132, activation='relu'))\n",
    "model.add(layers.Dense(1, activation='sigmoid'))"
   ]
  },
  {
   "cell_type": "code",
   "execution_count": 46,
   "metadata": {},
   "outputs": [
    {
     "name": "stdout",
     "output_type": "stream",
     "text": [
      "Epoch 1/10\n",
      "127/127 [==============================] - 833s 7s/step - loss: 0.5507 - accuracy: 0.7677 - recall: 0.9027 - val_loss: 0.6772 - val_accuracy: 0.7426 - val_recall: 1.0000\n",
      "Epoch 2/10\n",
      "127/127 [==============================] - 841s 7s/step - loss: 0.2501 - accuracy: 0.8852 - recall: 0.9220 - val_loss: 0.2368 - val_accuracy: 0.9149 - val_recall: 0.8947\n",
      "Epoch 3/10\n",
      "127/127 [==============================] - 881s 7s/step - loss: 0.1892 - accuracy: 0.9162 - recall: 0.9317 - val_loss: 0.1442 - val_accuracy: 0.9307 - val_recall: 0.9187\n",
      "Epoch 4/10\n",
      "127/127 [==============================] - 889s 7s/step - loss: 0.1125 - accuracy: 0.9542 - recall: 0.9647 - val_loss: 0.1262 - val_accuracy: 0.9515 - val_recall: 0.9907\n",
      "Epoch 5/10\n",
      "127/127 [==============================] - 902s 7s/step - loss: 0.1107 - accuracy: 0.9599 - recall: 0.9723 - val_loss: 0.0875 - val_accuracy: 0.9644 - val_recall: 0.9827\n",
      "Epoch 6/10\n",
      "127/127 [==============================] - 915s 7s/step - loss: 0.0678 - accuracy: 0.9728 - recall: 0.9813 - val_loss: 0.0666 - val_accuracy: 0.9772 - val_recall: 0.9773\n",
      "Epoch 7/10\n",
      "127/127 [==============================] - 897s 7s/step - loss: 0.0527 - accuracy: 0.9780 - recall: 0.9820 - val_loss: 0.1069 - val_accuracy: 0.9644 - val_recall: 0.9960\n",
      "Epoch 8/10\n",
      "127/127 [==============================] - 885s 7s/step - loss: 0.0565 - accuracy: 0.9792 - recall: 0.9863 - val_loss: 0.1659 - val_accuracy: 0.9396 - val_recall: 0.9973\n",
      "Epoch 9/10\n",
      "127/127 [==============================] - 882s 7s/step - loss: 0.0449 - accuracy: 0.9837 - recall: 0.9897 - val_loss: 0.1067 - val_accuracy: 0.9713 - val_recall: 0.9667\n",
      "Epoch 10/10\n",
      "127/127 [==============================] - 880s 7s/step - loss: 0.1473 - accuracy: 0.9486 - recall: 0.9667 - val_loss: 0.1137 - val_accuracy: 0.9574 - val_recall: 0.9707\n",
      "Total Time Elapsed:  148  minutes  2  seconds\n"
     ]
    }
   ],
   "source": [
    "# compiling models\n",
    "model.compile(loss='binary_crossentropy',\n",
    "              optimizer=optimizers.Adam(amsgrad = True),\n",
    "              metrics=['accuracy', 'Recall'])\n",
    "# training\n",
    "start = timer()\n",
    "history = model.fit(train_g, \n",
    "                    epochs=10, \n",
    "                    validation_data=val_g, \n",
    "                    workers = 7\n",
    "                   )\n",
    "end = timer()\n",
    "elapsed = end - start\n",
    "print('Total Time Elapsed: ', int(elapsed//60), ' minutes ', (round(elapsed%60)), ' seconds')"
   ]
  },
  {
   "cell_type": "code",
   "execution_count": 48,
   "metadata": {},
   "outputs": [
    {
     "name": "stdout",
     "output_type": "stream",
     "text": [
      "Found 586 images belonging to 2 classes.\n",
      "19/19 [==============================] - 30s 2s/step - loss: 0.9057 - accuracy: 0.7952 - recall: 0.9915\n"
     ]
    }
   ],
   "source": [
    "test_g = image.ImageDataGenerator(rescale = 1/255).flow_from_directory(test_dir,\n",
    "                                                                target_size = (150,150), \n",
    "                                                                color_mode='rgb',\n",
    "                                                                class_mode='binary')\n",
    "scores = model.evaluate(test_g, verbose=1)"
   ]
  },
  {
   "cell_type": "code",
   "execution_count": null,
   "metadata": {},
   "outputs": [],
   "source": []
  }
 ],
 "metadata": {
  "kernelspec": {
   "display_name": "Python 3",
   "language": "python",
   "name": "python3"
  },
  "language_info": {
   "codemirror_mode": {
    "name": "ipython",
    "version": 3
   },
   "file_extension": ".py",
   "mimetype": "text/x-python",
   "name": "python",
   "nbconvert_exporter": "python",
   "pygments_lexer": "ipython3",
   "version": "3.7.6"
  }
 },
 "nbformat": 4,
 "nbformat_minor": 2
}
