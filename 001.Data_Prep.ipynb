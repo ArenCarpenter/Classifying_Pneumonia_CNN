{
 "cells": [
  {
   "cell_type": "markdown",
   "metadata": {},
   "source": [
    "# Data Prep\n",
    "Our dataset already has an appropraite file structure with class divided within each of the folder (train/test).  \n",
    "In this document, we will just create a validation set."
   ]
  },
  {
   "cell_type": "code",
   "execution_count": 5,
   "metadata": {},
   "outputs": [],
   "source": [
    "import os, shutil\n",
    "import numpy as np\n",
    "import tensorflow as tf"
   ]
  },
  {
   "cell_type": "code",
   "execution_count": 3,
   "metadata": {},
   "outputs": [],
   "source": [
    "train_dir = 'DATA/train'\n",
    "test_dir = 'DATA/test'\n",
    "val_dir = 'DATA/validation'"
   ]
  },
  {
   "cell_type": "markdown",
   "metadata": {},
   "source": [
    "### Check for Corrupted Images\n",
    "(modified the original code from Keras.io)"
   ]
  },
  {
   "cell_type": "code",
   "execution_count": 7,
   "metadata": {},
   "outputs": [
    {
     "name": "stdout",
     "output_type": "stream",
     "text": [
      "DATA/train/PNEUMONIA\\BACTERIA-37006-0002.jpeg appears corrupted\n"
     ]
    }
   ],
   "source": [
    "for dirp in (f'{train_dir}/NORMAL', f'{train_dir}/PNEUMONIA', f'{test_dir}/NORMAL', f'{test_dir}/PNEUMONIA'):\n",
    "    for fn in os.listdir(dirp):\n",
    "        fp = os.path.join(dirp, fn)\n",
    "        try:\n",
    "            fobj = open(fp, \"rb\")\n",
    "            is_jfif = tf.compat.as_bytes(\"JFIF\") in fobj.peek(10)\n",
    "        finally:\n",
    "            fobj.close()\n",
    "\n",
    "        if not is_jfif:\n",
    "            print(f'{fp} appears corrupted')\n",
    "            # os.remove(fp) # remo"
   ]
  },
  {
   "cell_type": "markdown",
   "metadata": {},
   "source": [
    "### Subsetting Validation Set"
   ]
  },
  {
   "cell_type": "code",
   "execution_count": 4,
   "metadata": {},
   "outputs": [],
   "source": [
    "# make necessary directories\n",
    "def makedirect(paths):\n",
    "    for path in paths:\n",
    "        try: os.mkdir(path)\n",
    "        except FileExistsError: \n",
    "            print(f'{path} already exists')\n",
    "\n",
    "makedirect([val_dir, f'{val_dir}/NORMAL', f{val_dir}/PNEUMONIA'])"
   ]
  },
  {
   "cell_type": "code",
   "execution_count": 11,
   "metadata": {},
   "outputs": [],
   "source": [
    "# pull images from training into validation sets\n",
    "normal_imgs = [fn for fn in os.listdir(f'{train_dir}/NORMAL') if fn.endswith('.jpeg')]\n",
    "pneumo_imgs = [fn for fn in os.listdir(f'{train_dir}/PNEUMONIA') if fn.endswith('.jpeg')]\n",
    "\n",
    "# randomly select 20% of it \n",
    "normal_val = np.random.choice(normal_imgs, int(.2 * len(normal_imgs)), replace = False)\n",
    "pneumo_val = np.random.choice(pneumo_imgs, int(.2 * len(pneumo_imgs)), replace = False)   \n"
   ]
  },
  {
   "cell_type": "code",
   "execution_count": 13,
   "metadata": {},
   "outputs": [],
   "source": [
    "# move files\n",
    "def move_files(olddir, newdir, fnames):\n",
    "    for fn in fnames:\n",
    "        shutil.move(f'{olddir}/{fn}', f'{newdir}/{fn}')\n",
    "\n",
    "move_files(f'{train_dir}/NORMAL', f'{val_dir}/NORMAL', normal_val)\n",
    "move_files(f'{train_dir}/PNEUMONIA', f'{val_dir}/PNEUMONIA', pneumo_val)"
   ]
  }
 ],
 "metadata": {
  "kernelspec": {
   "display_name": "Python 3",
   "language": "python",
   "name": "python3"
  },
  "language_info": {
   "codemirror_mode": {
    "name": "ipython",
    "version": 3
   },
   "file_extension": ".py",
   "mimetype": "text/x-python",
   "name": "python",
   "nbconvert_exporter": "python",
   "pygments_lexer": "ipython3",
   "version": "3.8.5"
  }
 },
 "nbformat": 4,
 "nbformat_minor": 4
}
