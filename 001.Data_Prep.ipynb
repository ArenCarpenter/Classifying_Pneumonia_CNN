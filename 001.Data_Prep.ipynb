{
 "cells": [
  {
   "cell_type": "markdown",
   "metadata": {},
   "source": [
    "# Data Prep\n",
    "Our dataset already has an appropraite file structure with class divided within each of the folder (train/test).  \n",
    "In this document, we will just create a validation set."
   ]
  },
  {
   "cell_type": "code",
   "execution_count": 6,
   "metadata": {},
   "outputs": [],
   "source": [
    "import os, shutil\n",
    "import numpy as np"
   ]
  },
  {
   "cell_type": "code",
   "execution_count": 4,
   "metadata": {},
   "outputs": [],
   "source": [
    "# make necessary directories\n",
    "\n",
    "def makedirect(paths):\n",
    "    for path in paths:\n",
    "        try: os.mkdir(path)\n",
    "        except FileExistsError: \n",
    "            print(f'{path} already exists')\n",
    "\n",
    "makedirect(['DATA/validation', 'DATA/validation/NORMAL', 'DATA/validation/PNEUMONIA'])"
   ]
  },
  {
   "cell_type": "code",
   "execution_count": 11,
   "metadata": {},
   "outputs": [],
   "source": [
    "# pull images from training into validation sets\n",
    "normal_imgs = [fn for fn in os.listdir('DATA/train/NORMAL') if fn.endswith('.jpeg')]\n",
    "pneumo_imgs = [fn for fn in os.listdir('DATA/train/PNEUMONIA') if fn.endswith('.jpeg')]\n",
    "\n",
    "# randomly select 20% of it \n",
    "normal_val = np.random.choice(normal_imgs, int(.2 * len(normal_imgs)), replace = False)\n",
    "pneumo_val = np.random.choice(pneumo_imgs, int(.2 * len(pneumo_imgs)), replace = False)   \n"
   ]
  },
  {
   "cell_type": "code",
   "execution_count": 13,
   "metadata": {},
   "outputs": [],
   "source": [
    "# move files\n",
    "def move_files(olddir, newdir, fnames):\n",
    "    for fn in fnames:\n",
    "        shutil.move(f'{olddir}/{fn}', f'{newdir}/{fn}')\n",
    "\n",
    "move_files('DATA/train/NORMAL', 'DATA/validation/NORMAL', normal_val)\n",
    "move_files('DATA/train/PNEUMONIA', 'DATA/validation/PNEUMONIA', pneumo_val)"
   ]
  }
 ],
 "metadata": {
  "kernelspec": {
   "display_name": "Python 3",
   "language": "python",
   "name": "python3"
  },
  "language_info": {
   "codemirror_mode": {
    "name": "ipython",
    "version": 3
   },
   "file_extension": ".py",
   "mimetype": "text/x-python",
   "name": "python",
   "nbconvert_exporter": "python",
   "pygments_lexer": "ipython3",
   "version": "3.8.5"
  }
 },
 "nbformat": 4,
 "nbformat_minor": 4
}
